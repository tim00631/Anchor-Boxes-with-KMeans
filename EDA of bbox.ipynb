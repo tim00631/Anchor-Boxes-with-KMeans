{
 "cells": [
  {
   "cell_type": "markdown",
   "metadata": {},
   "source": [
    "# Anchor Boxes Analysis using K-Means"
   ]
  },
  {
   "cell_type": "markdown",
   "metadata": {},
   "source": [
    "### Section 1"
   ]
  },
  {
   "cell_type": "code",
   "execution_count": 1,
   "metadata": {},
   "outputs": [],
   "source": [
    "import pandas as pd\n",
    "import numpy as np\n",
    "import matplotlib.pyplot as plt\n",
    "import math\n",
    "import seaborn as sns\n",
    "%matplotlib inline\n",
    "import os\n",
    "import cv2\n",
    "\n",
    "import warnings\n",
    "warnings.filterwarnings('ignore')"
   ]
  },
  {
   "cell_type": "markdown",
   "metadata": {},
   "source": [
    "### with Image resizing (correct way!)\n",
    "\n",
    "#### Read csv\n",
    "A csv was made from xml file using \"xml_to_csv.py\""
   ]
  },
  {
   "cell_type": "code",
   "execution_count": 38,
   "metadata": {},
   "outputs": [],
   "source": [
    "#Read the dataset\n",
    "data = pd.read_csv('images/train_labels.csv')\n",
    "\n",
    "#utility function to get width & height\n",
    "def change_to_wh (data):\n",
    "    data['w'] = data['xmax'] - data['xmin'] + 1\n",
    "    data['h'] = data['ymax'] - data['ymin'] + 1\n",
    "    return data\n",
    "\n",
    "min_dimension = 1024\n",
    "max_dimension = 2048\n",
    "\n",
    "# function from Tensorflow Object Detection API to resize image\n",
    "def _compute_new_static_size(width, height, min_dimension, max_dimension):\n",
    "    orig_height = height\n",
    "    orig_width = width\n",
    "    orig_min_dim = min(orig_height, orig_width)\n",
    "  \n",
    "    # Calculates the larger of the possible sizes\n",
    "    large_scale_factor = min_dimension / float(orig_min_dim)\n",
    "      # Scaling orig_(height|width) by large_scale_factor will make the smaller\n",
    "      # dimension equal to min_dimension, save for floating point rounding errors.\n",
    "      # For reasonably-sized images, taking the nearest integer will reliably\n",
    "      # eliminate this error.\n",
    "    large_height = int(round(orig_height * large_scale_factor))\n",
    "    large_width = int(round(orig_width * large_scale_factor))\n",
    "    large_size = [large_height, large_width]\n",
    "    if max_dimension:\n",
    "    # Calculates the smaller of the possible sizes, use that if the larger\n",
    "    # is too big.\n",
    "        orig_max_dim = max(orig_height, orig_width)\n",
    "        small_scale_factor = max_dimension / float(orig_max_dim)\n",
    "    # Scaling orig_(height|width) by small_scale_factor will make the larger\n",
    "    # dimension equal to max_dimension, save for floating point rounding\n",
    "    # errors. For reasonably-sized images, taking the nearest integer will\n",
    "    # reliably eliminate this error.\n",
    "        small_height = int(round(orig_height * small_scale_factor))\n",
    "        small_width = int(round(orig_width * small_scale_factor))\n",
    "        small_size = [small_height, small_width]\n",
    "        new_size = large_size\n",
    "    if max(large_size) > max_dimension:\n",
    "        new_size = small_size\n",
    "    else:\n",
    "        new_size = large_size\n",
    "    \n",
    "    return new_size[1], new_size[0]\n",
    "\n",
    "\n",
    "\n",
    "\n",
    "\n"
   ]
  },
  {
   "cell_type": "code",
   "execution_count": 39,
   "metadata": {
    "scrolled": true
   },
   "outputs": [
    {
     "data": {
      "text/html": [
       "<div>\n",
       "<style scoped>\n",
       "    .dataframe tbody tr th:only-of-type {\n",
       "        vertical-align: middle;\n",
       "    }\n",
       "\n",
       "    .dataframe tbody tr th {\n",
       "        vertical-align: top;\n",
       "    }\n",
       "\n",
       "    .dataframe thead th {\n",
       "        text-align: right;\n",
       "    }\n",
       "</style>\n",
       "<table border=\"1\" class=\"dataframe\">\n",
       "  <thead>\n",
       "    <tr style=\"text-align: right;\">\n",
       "      <th></th>\n",
       "      <th>width</th>\n",
       "      <th>height</th>\n",
       "      <th>xmin</th>\n",
       "      <th>ymin</th>\n",
       "      <th>xmax</th>\n",
       "      <th>ymax</th>\n",
       "    </tr>\n",
       "  </thead>\n",
       "  <tbody>\n",
       "    <tr>\n",
       "      <th>count</th>\n",
       "      <td>7935.00000</td>\n",
       "      <td>7935.000000</td>\n",
       "      <td>7935.000000</td>\n",
       "      <td>7935.000000</td>\n",
       "      <td>7935.000000</td>\n",
       "      <td>7935.000000</td>\n",
       "    </tr>\n",
       "    <tr>\n",
       "      <th>mean</th>\n",
       "      <td>438.90775</td>\n",
       "      <td>335.125898</td>\n",
       "      <td>169.837933</td>\n",
       "      <td>142.419534</td>\n",
       "      <td>269.228607</td>\n",
       "      <td>228.454820</td>\n",
       "    </tr>\n",
       "    <tr>\n",
       "      <th>std</th>\n",
       "      <td>119.70912</td>\n",
       "      <td>91.807456</td>\n",
       "      <td>120.186694</td>\n",
       "      <td>86.695812</td>\n",
       "      <td>125.045422</td>\n",
       "      <td>96.748531</td>\n",
       "    </tr>\n",
       "    <tr>\n",
       "      <th>min</th>\n",
       "      <td>150.00000</td>\n",
       "      <td>144.000000</td>\n",
       "      <td>1.000000</td>\n",
       "      <td>1.000000</td>\n",
       "      <td>12.000000</td>\n",
       "      <td>12.000000</td>\n",
       "    </tr>\n",
       "    <tr>\n",
       "      <th>25%</th>\n",
       "      <td>400.00000</td>\n",
       "      <td>300.000000</td>\n",
       "      <td>83.000000</td>\n",
       "      <td>84.000000</td>\n",
       "      <td>184.500000</td>\n",
       "      <td>166.000000</td>\n",
       "    </tr>\n",
       "    <tr>\n",
       "      <th>50%</th>\n",
       "      <td>400.00000</td>\n",
       "      <td>300.000000</td>\n",
       "      <td>155.000000</td>\n",
       "      <td>134.000000</td>\n",
       "      <td>261.000000</td>\n",
       "      <td>222.000000</td>\n",
       "    </tr>\n",
       "    <tr>\n",
       "      <th>75%</th>\n",
       "      <td>400.00000</td>\n",
       "      <td>300.000000</td>\n",
       "      <td>238.000000</td>\n",
       "      <td>190.000000</td>\n",
       "      <td>336.000000</td>\n",
       "      <td>279.000000</td>\n",
       "    </tr>\n",
       "    <tr>\n",
       "      <th>max</th>\n",
       "      <td>800.00000</td>\n",
       "      <td>800.000000</td>\n",
       "      <td>763.000000</td>\n",
       "      <td>672.000000</td>\n",
       "      <td>800.000000</td>\n",
       "      <td>800.000000</td>\n",
       "    </tr>\n",
       "  </tbody>\n",
       "</table>\n",
       "</div>"
      ],
      "text/plain": [
       "            width       height         xmin         ymin         xmax  \\\n",
       "count  7935.00000  7935.000000  7935.000000  7935.000000  7935.000000   \n",
       "mean    438.90775   335.125898   169.837933   142.419534   269.228607   \n",
       "std     119.70912    91.807456   120.186694    86.695812   125.045422   \n",
       "min     150.00000   144.000000     1.000000     1.000000    12.000000   \n",
       "25%     400.00000   300.000000    83.000000    84.000000   184.500000   \n",
       "50%     400.00000   300.000000   155.000000   134.000000   261.000000   \n",
       "75%     400.00000   300.000000   238.000000   190.000000   336.000000   \n",
       "max     800.00000   800.000000   763.000000   672.000000   800.000000   \n",
       "\n",
       "              ymax  \n",
       "count  7935.000000  \n",
       "mean    228.454820  \n",
       "std      96.748531  \n",
       "min      12.000000  \n",
       "25%     166.000000  \n",
       "50%     222.000000  \n",
       "75%     279.000000  \n",
       "max     800.000000  "
      ]
     },
     "execution_count": 39,
     "metadata": {},
     "output_type": "execute_result"
    }
   ],
   "source": [
    "# Initial Data\n",
    "data.describe()"
   ]
  },
  {
   "cell_type": "code",
   "execution_count": 40,
   "metadata": {},
   "outputs": [],
   "source": [
    "data = change_to_wh(data)\n",
    "data['new_w'], data['new_h'] = np.vectorize(_compute_new_static_size)(data['width'], \n",
    "                                                                      data['height'], min_dimension, max_dimension)\n",
    "data['b_w'] = data['new_w']*data['w']/data['width']\n",
    "data['b_h'] = data['new_h']*data['h']/data['height']\n",
    "data['b_ar'] = data['b_w']/data['b_h']"
   ]
  },
  {
   "cell_type": "code",
   "execution_count": 41,
   "metadata": {},
   "outputs": [
    {
     "data": {
      "text/plain": [
       "<seaborn.axisgrid.JointGrid at 0x1a234f7ba8>"
      ]
     },
     "execution_count": 41,
     "metadata": {},
     "output_type": "execute_result"
    },
    {
     "data": {
      "image/png": "[encoded data removed]",
      "text/plain": [
       "<Figure size 432x432 with 3 Axes>"
      ]
     },
     "metadata": {
      "needs_background": "light"
     },
     "output_type": "display_data"
    },
    {
     "data": {
      "image/png": "[encoded data removed]",
      "text/plain": [
       "<Figure size 432x432 with 3 Axes>"
      ]
     },
     "metadata": {
      "needs_background": "light"
     },
     "output_type": "display_data"
    }
   ],
   "source": [
    "#Joint Plot of b_w and b_h\n",
    "sns.jointplot(x=\"b_w\", y=\"b_h\", data=data)\n",
    "sns.jointplot(x=\"b_w\", y=\"b_h\", data=data, kind='kde')"
   ]
  },
  {
   "cell_type": "markdown",
   "metadata": {},
   "source": [
    "### Calculate the base box size!\n"
   ]
  },
  {
   "cell_type": "code",
   "execution_count": 36,
   "metadata": {
    "scrolled": true
   },
   "outputs": [
    {
     "data": {
      "image/png": "[encoded data removed]",
      "text/plain": [
       "<Figure size 432x288 with 1 Axes>"
      ]
     },
     "metadata": {
      "needs_background": "light"
     },
     "output_type": "display_data"
    }
   ],
   "source": [
    "def count_base_size(width, height, input_array=[64,96,128,196,212,256,512]):\n",
    "    result = {}\n",
    "    for ele in input_array:\n",
    "        result[str(ele)] = 0\n",
    "    result['rest'] = 0\n",
    "    \n",
    "    import itertools\n",
    "    for w,h in zip(width,height):\n",
    "        done = False\n",
    "        for inp in input_array:\n",
    "            if w <= inp and h <= inp:\n",
    "                result[str(inp)] += 1\n",
    "                done = True\n",
    "        if done == False:\n",
    "            result['rest'] += 1\n",
    "            \n",
    "    return result\n",
    "    \n",
    "D = count_base_size(data[\"b_w\"].tolist(), data[\"b_h\"].tolist())\n",
    "import collections\n",
    "OD = collections.OrderedDict(sorted(D.items()))\n",
    "plt.bar(range(len(OD)), OD.values(), align='center')  # python 2.x\n",
    "plt.xticks(range(len(OD)), OD.keys())  # in python 2.x\n",
    "\n",
    "plt.show()\n"
   ]
  },
  {
   "cell_type": "code",
   "execution_count": 37,
   "metadata": {
    "scrolled": true
   },
   "outputs": [
    {
     "name": "stdout",
     "output_type": "stream",
     "text": [
      "OrderedDict([('128', 5865), ('196', 6972), ('212', 7115), ('256', 7451), ('512', 7935), ('64', 3340), ('96', 4884), ('rest', 0)])\n"
     ]
    }
   ],
   "source": [
    "print(OD)"
   ]
  },
  {
   "cell_type": "code",
   "execution_count": 12,
   "metadata": {},
   "outputs": [
    {
     "data": {
      "text/html": [
       "<div>\n",
       "<style scoped>\n",
       "    .dataframe tbody tr th:only-of-type {\n",
       "        vertical-align: middle;\n",
       "    }\n",
       "\n",
       "    .dataframe tbody tr th {\n",
       "        vertical-align: top;\n",
       "    }\n",
       "\n",
       "    .dataframe thead th {\n",
       "        text-align: right;\n",
       "    }\n",
       "</style>\n",
       "<table border=\"1\" class=\"dataframe\">\n",
       "  <thead>\n",
       "    <tr style=\"text-align: right;\">\n",
       "      <th></th>\n",
       "      <th>width</th>\n",
       "      <th>height</th>\n",
       "      <th>xmin</th>\n",
       "      <th>ymin</th>\n",
       "      <th>xmax</th>\n",
       "      <th>ymax</th>\n",
       "      <th>w</th>\n",
       "      <th>h</th>\n",
       "      <th>new_w</th>\n",
       "      <th>new_h</th>\n",
       "      <th>b_w</th>\n",
       "      <th>b_h</th>\n",
       "      <th>b_ar</th>\n",
       "      <th>b_area_scale</th>\n",
       "    </tr>\n",
       "  </thead>\n",
       "  <tbody>\n",
       "    <tr>\n",
       "      <th>count</th>\n",
       "      <td>7935.00000</td>\n",
       "      <td>7935.000000</td>\n",
       "      <td>7935.000000</td>\n",
       "      <td>7935.000000</td>\n",
       "      <td>7935.000000</td>\n",
       "      <td>7935.000000</td>\n",
       "      <td>7935.000000</td>\n",
       "      <td>7935.000000</td>\n",
       "      <td>7935.000000</td>\n",
       "      <td>7935.000000</td>\n",
       "      <td>7935.000000</td>\n",
       "      <td>7935.000000</td>\n",
       "      <td>7935.000000</td>\n",
       "      <td>7935.000000</td>\n",
       "    </tr>\n",
       "    <tr>\n",
       "      <th>mean</th>\n",
       "      <td>438.90775</td>\n",
       "      <td>335.125898</td>\n",
       "      <td>169.837933</td>\n",
       "      <td>142.419534</td>\n",
       "      <td>269.228607</td>\n",
       "      <td>228.454820</td>\n",
       "      <td>100.390674</td>\n",
       "      <td>87.035287</td>\n",
       "      <td>1061.525646</td>\n",
       "      <td>810.311783</td>\n",
       "      <td>248.460433</td>\n",
       "      <td>214.243227</td>\n",
       "      <td>1.314735</td>\n",
       "      <td>0.356376</td>\n",
       "    </tr>\n",
       "    <tr>\n",
       "      <th>std</th>\n",
       "      <td>119.70912</td>\n",
       "      <td>91.807456</td>\n",
       "      <td>120.186694</td>\n",
       "      <td>86.695812</td>\n",
       "      <td>125.045422</td>\n",
       "      <td>96.748531</td>\n",
       "      <td>85.418842</td>\n",
       "      <td>72.775482</td>\n",
       "      <td>62.601003</td>\n",
       "      <td>56.548647</td>\n",
       "      <td>207.563056</td>\n",
       "      <td>172.517680</td>\n",
       "      <td>0.700810</td>\n",
       "      <td>0.287990</td>\n",
       "    </tr>\n",
       "    <tr>\n",
       "      <th>min</th>\n",
       "      <td>150.00000</td>\n",
       "      <td>144.000000</td>\n",
       "      <td>1.000000</td>\n",
       "      <td>1.000000</td>\n",
       "      <td>12.000000</td>\n",
       "      <td>12.000000</td>\n",
       "      <td>2.000000</td>\n",
       "      <td>2.000000</td>\n",
       "      <td>533.000000</td>\n",
       "      <td>681.000000</td>\n",
       "      <td>5.335000</td>\n",
       "      <td>5.333333</td>\n",
       "      <td>0.205470</td>\n",
       "      <td>0.007812</td>\n",
       "    </tr>\n",
       "    <tr>\n",
       "      <th>25%</th>\n",
       "      <td>400.00000</td>\n",
       "      <td>300.000000</td>\n",
       "      <td>83.000000</td>\n",
       "      <td>84.000000</td>\n",
       "      <td>184.500000</td>\n",
       "      <td>166.000000</td>\n",
       "      <td>43.000000</td>\n",
       "      <td>35.000000</td>\n",
       "      <td>1067.000000</td>\n",
       "      <td>800.000000</td>\n",
       "      <td>106.700000</td>\n",
       "      <td>88.000000</td>\n",
       "      <td>0.842661</td>\n",
       "      <td>0.152294</td>\n",
       "    </tr>\n",
       "    <tr>\n",
       "      <th>50%</th>\n",
       "      <td>400.00000</td>\n",
       "      <td>300.000000</td>\n",
       "      <td>155.000000</td>\n",
       "      <td>134.000000</td>\n",
       "      <td>261.000000</td>\n",
       "      <td>222.000000</td>\n",
       "      <td>73.000000</td>\n",
       "      <td>64.000000</td>\n",
       "      <td>1067.000000</td>\n",
       "      <td>800.000000</td>\n",
       "      <td>180.056250</td>\n",
       "      <td>156.666667</td>\n",
       "      <td>1.115102</td>\n",
       "      <td>0.267742</td>\n",
       "    </tr>\n",
       "    <tr>\n",
       "      <th>75%</th>\n",
       "      <td>400.00000</td>\n",
       "      <td>300.000000</td>\n",
       "      <td>238.000000</td>\n",
       "      <td>190.000000</td>\n",
       "      <td>336.000000</td>\n",
       "      <td>279.000000</td>\n",
       "      <td>127.000000</td>\n",
       "      <td>116.000000</td>\n",
       "      <td>1067.000000</td>\n",
       "      <td>800.000000</td>\n",
       "      <td>317.432500</td>\n",
       "      <td>282.666667</td>\n",
       "      <td>1.586282</td>\n",
       "      <td>0.458880</td>\n",
       "    </tr>\n",
       "    <tr>\n",
       "      <th>max</th>\n",
       "      <td>800.00000</td>\n",
       "      <td>800.000000</td>\n",
       "      <td>763.000000</td>\n",
       "      <td>672.000000</td>\n",
       "      <td>800.000000</td>\n",
       "      <td>800.000000</td>\n",
       "      <td>799.000000</td>\n",
       "      <td>785.000000</td>\n",
       "      <td>1280.000000</td>\n",
       "      <td>1280.000000</td>\n",
       "      <td>1199.000000</td>\n",
       "      <td>1107.200000</td>\n",
       "      <td>11.059010</td>\n",
       "      <td>2.540564</td>\n",
       "    </tr>\n",
       "  </tbody>\n",
       "</table>\n",
       "</div>"
      ],
      "text/plain": [
       "            width       height         xmin         ymin         xmax  \\\n",
       "count  7935.00000  7935.000000  7935.000000  7935.000000  7935.000000   \n",
       "mean    438.90775   335.125898   169.837933   142.419534   269.228607   \n",
       "std     119.70912    91.807456   120.186694    86.695812   125.045422   \n",
       "min     150.00000   144.000000     1.000000     1.000000    12.000000   \n",
       "25%     400.00000   300.000000    83.000000    84.000000   184.500000   \n",
       "50%     400.00000   300.000000   155.000000   134.000000   261.000000   \n",
       "75%     400.00000   300.000000   238.000000   190.000000   336.000000   \n",
       "max     800.00000   800.000000   763.000000   672.000000   800.000000   \n",
       "\n",
       "              ymax            w            h        new_w        new_h  \\\n",
       "count  7935.000000  7935.000000  7935.000000  7935.000000  7935.000000   \n",
       "mean    228.454820   100.390674    87.035287  1061.525646   810.311783   \n",
       "std      96.748531    85.418842    72.775482    62.601003    56.548647   \n",
       "min      12.000000     2.000000     2.000000   533.000000   681.000000   \n",
       "25%     166.000000    43.000000    35.000000  1067.000000   800.000000   \n",
       "50%     222.000000    73.000000    64.000000  1067.000000   800.000000   \n",
       "75%     279.000000   127.000000   116.000000  1067.000000   800.000000   \n",
       "max     800.000000   799.000000   785.000000  1280.000000  1280.000000   \n",
       "\n",
       "               b_w          b_h         b_ar  b_area_scale  \n",
       "count  7935.000000  7935.000000  7935.000000   7935.000000  \n",
       "mean    248.460433   214.243227     1.314735      0.356376  \n",
       "std     207.563056   172.517680     0.700810      0.287990  \n",
       "min       5.335000     5.333333     0.205470      0.007812  \n",
       "25%     106.700000    88.000000     0.842661      0.152294  \n",
       "50%     180.056250   156.666667     1.115102      0.267742  \n",
       "75%     317.432500   282.666667     1.586282      0.458880  \n",
       "max    1199.000000  1107.200000    11.059010      2.540564  "
      ]
     },
     "execution_count": 12,
     "metadata": {},
     "output_type": "execute_result"
    }
   ],
   "source": [
    "# Area Scale\n",
    "base_box = 256*256\n",
    "data['b_area_scale'] = (data['w']*data['h']/(base_box)).apply(np.sqrt)\n",
    "data.describe()"
   ]
  },
  {
   "cell_type": "code",
   "execution_count": 13,
   "metadata": {},
   "outputs": [
    {
     "data": {
      "text/html": [
       "<div>\n",
       "<style scoped>\n",
       "    .dataframe tbody tr th:only-of-type {\n",
       "        vertical-align: middle;\n",
       "    }\n",
       "\n",
       "    .dataframe tbody tr th {\n",
       "        vertical-align: top;\n",
       "    }\n",
       "\n",
       "    .dataframe thead th {\n",
       "        text-align: right;\n",
       "    }\n",
       "</style>\n",
       "<table border=\"1\" class=\"dataframe\">\n",
       "  <thead>\n",
       "    <tr style=\"text-align: right;\">\n",
       "      <th></th>\n",
       "      <th>width</th>\n",
       "      <th>height</th>\n",
       "      <th>xmin</th>\n",
       "      <th>ymin</th>\n",
       "      <th>xmax</th>\n",
       "      <th>ymax</th>\n",
       "      <th>w</th>\n",
       "      <th>h</th>\n",
       "      <th>new_w</th>\n",
       "      <th>new_h</th>\n",
       "      <th>b_w</th>\n",
       "      <th>b_h</th>\n",
       "      <th>b_ar</th>\n",
       "      <th>b_area_scale</th>\n",
       "      <th>tf_scale</th>\n",
       "      <th>tf_scale_2</th>\n",
       "    </tr>\n",
       "  </thead>\n",
       "  <tbody>\n",
       "    <tr>\n",
       "      <th>count</th>\n",
       "      <td>7935.00000</td>\n",
       "      <td>7935.000000</td>\n",
       "      <td>7935.000000</td>\n",
       "      <td>7935.000000</td>\n",
       "      <td>7935.000000</td>\n",
       "      <td>7935.000000</td>\n",
       "      <td>7935.000000</td>\n",
       "      <td>7935.000000</td>\n",
       "      <td>7935.000000</td>\n",
       "      <td>7935.000000</td>\n",
       "      <td>7935.000000</td>\n",
       "      <td>7935.000000</td>\n",
       "      <td>7935.000000</td>\n",
       "      <td>7935.000000</td>\n",
       "      <td>7935.000000</td>\n",
       "      <td>7935.000000</td>\n",
       "    </tr>\n",
       "    <tr>\n",
       "      <th>mean</th>\n",
       "      <td>438.90775</td>\n",
       "      <td>335.125898</td>\n",
       "      <td>169.837933</td>\n",
       "      <td>142.419534</td>\n",
       "      <td>269.228607</td>\n",
       "      <td>228.454820</td>\n",
       "      <td>100.390674</td>\n",
       "      <td>87.035287</td>\n",
       "      <td>1061.525646</td>\n",
       "      <td>810.311783</td>\n",
       "      <td>248.460433</td>\n",
       "      <td>214.243227</td>\n",
       "      <td>1.314735</td>\n",
       "      <td>0.356376</td>\n",
       "      <td>0.879694</td>\n",
       "      <td>0.879694</td>\n",
       "    </tr>\n",
       "    <tr>\n",
       "      <th>std</th>\n",
       "      <td>119.70912</td>\n",
       "      <td>91.807456</td>\n",
       "      <td>120.186694</td>\n",
       "      <td>86.695812</td>\n",
       "      <td>125.045422</td>\n",
       "      <td>96.748531</td>\n",
       "      <td>85.418842</td>\n",
       "      <td>72.775482</td>\n",
       "      <td>62.601003</td>\n",
       "      <td>56.548647</td>\n",
       "      <td>207.563056</td>\n",
       "      <td>172.517680</td>\n",
       "      <td>0.700810</td>\n",
       "      <td>0.287990</td>\n",
       "      <td>0.692266</td>\n",
       "      <td>0.692266</td>\n",
       "    </tr>\n",
       "    <tr>\n",
       "      <th>min</th>\n",
       "      <td>150.00000</td>\n",
       "      <td>144.000000</td>\n",
       "      <td>1.000000</td>\n",
       "      <td>1.000000</td>\n",
       "      <td>12.000000</td>\n",
       "      <td>12.000000</td>\n",
       "      <td>2.000000</td>\n",
       "      <td>2.000000</td>\n",
       "      <td>533.000000</td>\n",
       "      <td>681.000000</td>\n",
       "      <td>5.335000</td>\n",
       "      <td>5.333333</td>\n",
       "      <td>0.205470</td>\n",
       "      <td>0.007812</td>\n",
       "      <td>0.020837</td>\n",
       "      <td>0.020837</td>\n",
       "    </tr>\n",
       "    <tr>\n",
       "      <th>25%</th>\n",
       "      <td>400.00000</td>\n",
       "      <td>300.000000</td>\n",
       "      <td>83.000000</td>\n",
       "      <td>84.000000</td>\n",
       "      <td>184.500000</td>\n",
       "      <td>166.000000</td>\n",
       "      <td>43.000000</td>\n",
       "      <td>35.000000</td>\n",
       "      <td>1067.000000</td>\n",
       "      <td>800.000000</td>\n",
       "      <td>106.700000</td>\n",
       "      <td>88.000000</td>\n",
       "      <td>0.842661</td>\n",
       "      <td>0.152294</td>\n",
       "      <td>0.380627</td>\n",
       "      <td>0.380627</td>\n",
       "    </tr>\n",
       "    <tr>\n",
       "      <th>50%</th>\n",
       "      <td>400.00000</td>\n",
       "      <td>300.000000</td>\n",
       "      <td>155.000000</td>\n",
       "      <td>134.000000</td>\n",
       "      <td>261.000000</td>\n",
       "      <td>222.000000</td>\n",
       "      <td>73.000000</td>\n",
       "      <td>64.000000</td>\n",
       "      <td>1067.000000</td>\n",
       "      <td>800.000000</td>\n",
       "      <td>180.056250</td>\n",
       "      <td>156.666667</td>\n",
       "      <td>1.115102</td>\n",
       "      <td>0.267742</td>\n",
       "      <td>0.655608</td>\n",
       "      <td>0.655608</td>\n",
       "    </tr>\n",
       "    <tr>\n",
       "      <th>75%</th>\n",
       "      <td>400.00000</td>\n",
       "      <td>300.000000</td>\n",
       "      <td>238.000000</td>\n",
       "      <td>190.000000</td>\n",
       "      <td>336.000000</td>\n",
       "      <td>279.000000</td>\n",
       "      <td>127.000000</td>\n",
       "      <td>116.000000</td>\n",
       "      <td>1067.000000</td>\n",
       "      <td>800.000000</td>\n",
       "      <td>317.432500</td>\n",
       "      <td>282.666667</td>\n",
       "      <td>1.586282</td>\n",
       "      <td>0.458880</td>\n",
       "      <td>1.146012</td>\n",
       "      <td>1.146012</td>\n",
       "    </tr>\n",
       "    <tr>\n",
       "      <th>max</th>\n",
       "      <td>800.00000</td>\n",
       "      <td>800.000000</td>\n",
       "      <td>763.000000</td>\n",
       "      <td>672.000000</td>\n",
       "      <td>800.000000</td>\n",
       "      <td>800.000000</td>\n",
       "      <td>799.000000</td>\n",
       "      <td>785.000000</td>\n",
       "      <td>1280.000000</td>\n",
       "      <td>1280.000000</td>\n",
       "      <td>1199.000000</td>\n",
       "      <td>1107.200000</td>\n",
       "      <td>11.059010</td>\n",
       "      <td>2.540564</td>\n",
       "      <td>3.820948</td>\n",
       "      <td>3.820948</td>\n",
       "    </tr>\n",
       "  </tbody>\n",
       "</table>\n",
       "</div>"
      ],
      "text/plain": [
       "            width       height         xmin         ymin         xmax  \\\n",
       "count  7935.00000  7935.000000  7935.000000  7935.000000  7935.000000   \n",
       "mean    438.90775   335.125898   169.837933   142.419534   269.228607   \n",
       "std     119.70912    91.807456   120.186694    86.695812   125.045422   \n",
       "min     150.00000   144.000000     1.000000     1.000000    12.000000   \n",
       "25%     400.00000   300.000000    83.000000    84.000000   184.500000   \n",
       "50%     400.00000   300.000000   155.000000   134.000000   261.000000   \n",
       "75%     400.00000   300.000000   238.000000   190.000000   336.000000   \n",
       "max     800.00000   800.000000   763.000000   672.000000   800.000000   \n",
       "\n",
       "              ymax            w            h        new_w        new_h  \\\n",
       "count  7935.000000  7935.000000  7935.000000  7935.000000  7935.000000   \n",
       "mean    228.454820   100.390674    87.035287  1061.525646   810.311783   \n",
       "std      96.748531    85.418842    72.775482    62.601003    56.548647   \n",
       "min      12.000000     2.000000     2.000000   533.000000   681.000000   \n",
       "25%     166.000000    43.000000    35.000000  1067.000000   800.000000   \n",
       "50%     222.000000    73.000000    64.000000  1067.000000   800.000000   \n",
       "75%     279.000000   127.000000   116.000000  1067.000000   800.000000   \n",
       "max     800.000000   799.000000   785.000000  1280.000000  1280.000000   \n",
       "\n",
       "               b_w          b_h         b_ar  b_area_scale     tf_scale  \\\n",
       "count  7935.000000  7935.000000  7935.000000   7935.000000  7935.000000   \n",
       "mean    248.460433   214.243227     1.314735      0.356376     0.879694   \n",
       "std     207.563056   172.517680     0.700810      0.287990     0.692266   \n",
       "min       5.335000     5.333333     0.205470      0.007812     0.020837   \n",
       "25%     106.700000    88.000000     0.842661      0.152294     0.380627   \n",
       "50%     180.056250   156.666667     1.115102      0.267742     0.655608   \n",
       "75%     317.432500   282.666667     1.586282      0.458880     1.146012   \n",
       "max    1199.000000  1107.200000    11.059010      2.540564     3.820948   \n",
       "\n",
       "        tf_scale_2  \n",
       "count  7935.000000  \n",
       "mean      0.879694  \n",
       "std       0.692266  \n",
       "min       0.020837  \n",
       "25%       0.380627  \n",
       "50%       0.655608  \n",
       "75%       1.146012  \n",
       "max       3.820948  "
      ]
     },
     "execution_count": 13,
     "metadata": {},
     "output_type": "execute_result"
    }
   ],
   "source": [
    "# TF scale\n",
    "base_anchor = 256\n",
    "data['tf_scale'] = data['b_h']*(data['b_ar']).apply(np.sqrt)/base_anchor\n",
    "data['tf_scale_2']= data['b_w']/((data['b_ar']).apply(np.sqrt)*base_anchor)\n",
    "data.describe()"
   ]
  },
  {
   "cell_type": "code",
   "execution_count": 14,
   "metadata": {},
   "outputs": [
    {
     "data": {
      "text/plain": [
       "Index(['filename', 'width', 'height', 'class', 'xmin', 'ymin', 'xmax', 'ymax',\n",
       "       'w', 'h', 'new_w', 'new_h', 'b_w', 'b_h', 'b_ar', 'b_area_scale',\n",
       "       'tf_scale', 'tf_scale_2'],\n",
       "      dtype='object')"
      ]
     },
     "execution_count": 14,
     "metadata": {},
     "output_type": "execute_result"
    }
   ],
   "source": [
    "data.columns"
   ]
  },
  {
   "cell_type": "markdown",
   "metadata": {},
   "source": [
    "## Clusterring\n",
    "\n",
    "### Eucledian Distance Based Clusterring\n",
    "\n",
    "### One by One (AR and Scale Separately)"
   ]
  },
  {
   "cell_type": "code",
   "execution_count": 15,
   "metadata": {},
   "outputs": [
    {
     "data": {
      "text/plain": [
       "[<matplotlib.lines.Line2D at 0x1a2322b128>]"
      ]
     },
     "execution_count": 15,
     "metadata": {},
     "output_type": "execute_result"
    },
    {
     "data": {
      "image/png": "[encoded data removed]",
      "text/plain": [
       "<Figure size 432x288 with 1 Axes>"
      ]
     },
     "metadata": {
      "needs_background": "light"
     },
     "output_type": "display_data"
    }
   ],
   "source": [
    "# Aspect Ratio\n",
    "X = data.iloc[:,14].values\n",
    "X = X.reshape(-1,1)\n",
    "\n",
    "\n",
    "loss = []\n",
    "from sklearn.cluster import KMeans\n",
    "for i in range(2,10):\n",
    "    K = KMeans(i, random_state=1)\n",
    "    labels = K.fit(X)\n",
    "    loss.append(labels.inertia_)\n",
    "\n",
    "plt.plot(loss)"
   ]
  },
  {
   "cell_type": "code",
   "execution_count": 16,
   "metadata": {},
   "outputs": [
    {
     "name": "stdout",
     "output_type": "stream",
     "text": [
      "b_ar\n",
      "Aspect Ratios:\n",
      "\n",
      "[[1.42511633]\n",
      " [2.27493239]\n",
      " [0.83126058]\n",
      " [3.6128397 ]]\n"
     ]
    }
   ],
   "source": [
    "print(data.columns[14])\n",
    "\n",
    "from sklearn.cluster import KMeans\n",
    "K = KMeans(4, random_state=1)\n",
    "labels = K.fit(X)\n",
    "print(\"Aspect Ratios:\\n\")\n",
    "print(labels.cluster_centers_)"
   ]
  },
  {
   "cell_type": "code",
   "execution_count": 17,
   "metadata": {},
   "outputs": [
    {
     "data": {
      "text/plain": [
       "0.9999999565663664"
      ]
     },
     "execution_count": 17,
     "metadata": {},
     "output_type": "execute_result"
    }
   ],
   "source": [
    "# Correlation Check (ignore!)\n",
    "\n",
    "x = data['w']/data['h']\n",
    "\n",
    "data['b_ar'].corr(x)"
   ]
  },
  {
   "cell_type": "code",
   "execution_count": 18,
   "metadata": {},
   "outputs": [
    {
     "data": {
      "text/plain": [
       "[<matplotlib.lines.Line2D at 0x1a21e87470>]"
      ]
     },
     "execution_count": 18,
     "metadata": {},
     "output_type": "execute_result"
    },
    {
     "data": {
      "image/png": "[encoded data removed]",
      "text/plain": [
       "<Figure size 432x288 with 1 Axes>"
      ]
     },
     "metadata": {
      "needs_background": "light"
     },
     "output_type": "display_data"
    }
   ],
   "source": [
    "\n",
    "# TF_Scale Clusterring\n",
    "X = data.iloc[:,16].values\n",
    "X = X.reshape(-1,1)\n",
    "\n",
    "\n",
    "loss = []\n",
    "from sklearn.cluster import KMeans\n",
    "for i in range(2,10):\n",
    "    K = KMeans(i, random_state=1)\n",
    "    labels = K.fit(X)\n",
    "    loss.append(labels.inertia_)\n",
    "\n",
    "plt.plot(loss)"
   ]
  },
  {
   "cell_type": "code",
   "execution_count": 19,
   "metadata": {},
   "outputs": [
    {
     "data": {
      "text/plain": [
       "[<matplotlib.lines.Line2D at 0x1a2343a518>]"
      ]
     },
     "execution_count": 19,
     "metadata": {},
     "output_type": "execute_result"
    },
    {
     "data": {
      "image/png": "[encoded data removed]",
      "text/plain": [
       "<Figure size 432x288 with 1 Axes>"
      ]
     },
     "metadata": {
      "needs_background": "light"
     },
     "output_type": "display_data"
    }
   ],
   "source": [
    "# Plot of different scales\n",
    "plt.plot(X, 'o')"
   ]
  },
  {
   "cell_type": "code",
   "execution_count": 20,
   "metadata": {},
   "outputs": [
    {
     "name": "stdout",
     "output_type": "stream",
     "text": [
      "tf_scale\n"
     ]
    },
    {
     "data": {
      "text/plain": [
       "array([[0.92194601],\n",
       "       [0.39131406],\n",
       "       [2.79903298],\n",
       "       [1.66806119]])"
      ]
     },
     "execution_count": 20,
     "metadata": {},
     "output_type": "execute_result"
    }
   ],
   "source": [
    "print(data.columns[16])\n",
    "\n",
    "from sklearn.cluster import KMeans\n",
    "K = KMeans(4, random_state=1)\n",
    "labels = K.fit(X)\n",
    "labels.cluster_centers_"
   ]
  },
  {
   "cell_type": "code",
   "execution_count": 21,
   "metadata": {},
   "outputs": [
    {
     "data": {
      "text/plain": [
       "[<matplotlib.lines.Line2D at 0x1a234af2e8>]"
      ]
     },
     "execution_count": 21,
     "metadata": {},
     "output_type": "execute_result"
    },
    {
     "data": {
      "image/png": "[encoded data removed]",
      "text/plain": [
       "<Figure size 432x288 with 1 Axes>"
      ]
     },
     "metadata": {
      "needs_background": "light"
     },
     "output_type": "display_data"
    }
   ],
   "source": [
    "# area_Scale\n",
    "X = data.iloc[:,15].values\n",
    "X = X.reshape(-1,1)\n",
    "\n",
    "\n",
    "loss = []\n",
    "from sklearn.cluster import KMeans\n",
    "for i in range(2,10):\n",
    "    K = KMeans(i, random_state=1)\n",
    "    labels = K.fit(X)\n",
    "    loss.append(labels.inertia_)\n",
    "\n",
    "plt.plot(loss)"
   ]
  },
  {
   "cell_type": "code",
   "execution_count": 22,
   "metadata": {},
   "outputs": [
    {
     "name": "stdout",
     "output_type": "stream",
     "text": [
      "b_area_scale\n"
     ]
    },
    {
     "data": {
      "text/plain": [
       "array([[0.37925993],\n",
       "       [1.20394822],\n",
       "       [0.15709326],\n",
       "       [0.70048938]])"
      ]
     },
     "execution_count": 22,
     "metadata": {},
     "output_type": "execute_result"
    }
   ],
   "source": [
    "print(data.columns[15])\n",
    "\n",
    "from sklearn.cluster import KMeans\n",
    "K = KMeans(4, random_state=1)\n",
    "labels = K.fit(X)\n",
    "labels.cluster_centers_"
   ]
  },
  {
   "cell_type": "markdown",
   "metadata": {},
   "source": [
    "## Clusterring using both width & height"
   ]
  },
  {
   "cell_type": "code",
   "execution_count": 23,
   "metadata": {},
   "outputs": [
    {
     "name": "stdout",
     "output_type": "stream",
     "text": [
      "Index(['b_w', 'b_h'], dtype='object')\n"
     ]
    },
    {
     "data": {
      "image/png": "[encoded data removed]",
      "text/plain": [
       "<Figure size 432x288 with 1 Axes>"
      ]
     },
     "metadata": {
      "needs_background": "light"
     },
     "output_type": "display_data"
    }
   ],
   "source": [
    "print(data.columns[12:14])\n",
    "X = data.as_matrix(columns=data.columns[12:14])\n",
    "\n",
    "from sklearn.cluster import KMeans\n",
    "K = KMeans(5, random_state=0)\n",
    "labels = K.fit(X)\n",
    "plt.scatter(X[:, 0], X[:, 1], c=labels.labels_,\n",
    "            s=50, cmap='viridis');"
   ]
  },
  {
   "cell_type": "code",
   "execution_count": 24,
   "metadata": {},
   "outputs": [
    {
     "name": "stdout",
     "output_type": "stream",
     "text": [
      "Aspect Ratios: \n",
      "[1.20848484 1.18739786 1.45160389 1.09131089 0.95259292]\n",
      "Scales: \n",
      "[1.34799527 0.36394955 2.90489429 0.79616168 2.06421995]\n"
     ]
    }
   ],
   "source": [
    "out = labels.cluster_centers_\n",
    "\n",
    "ar = out[:,0]/out[:,1]\n",
    "scale = out[:,1]*np.sqrt(ar)/256\n",
    "\n",
    "print(\"Aspect Ratios: \")\n",
    "print (ar)\n",
    "\n",
    "print (\"Scales: \")\n",
    "print (scale)"
   ]
  },
  {
   "cell_type": "markdown",
   "metadata": {},
   "source": [
    "### IOU based clusterring"
   ]
  },
  {
   "cell_type": "code",
   "execution_count": 27,
   "metadata": {},
   "outputs": [],
   "source": [
    "#utility functions for K-means\n",
    "import numpy as np\n",
    "\n",
    "\n",
    "def iou(box, clusters):\n",
    "    \"\"\"\n",
    "    Calculates the Intersection over Union (IoU) between a box and k clusters.\n",
    "    :param box: tuple or array, shifted to the origin (i. e. width and height)\n",
    "    :param clusters: numpy array of shape (k, 2) where k is the number of clusters\n",
    "    :return: numpy array of shape (k, 0) where k is the number of clusters\n",
    "    \"\"\"\n",
    "    x = np.minimum(clusters[:, 0], box[0])\n",
    "    y = np.minimum(clusters[:, 1], box[1])\n",
    "    if np.count_nonzero(x == 0) > 0 or np.count_nonzero(y == 0) > 0:\n",
    "        raise ValueError(\"Box has no area\")\n",
    "\n",
    "    intersection = x * y\n",
    "    box_area = box[0] * box[1]\n",
    "    cluster_area = clusters[:, 0] * clusters[:, 1]\n",
    "\n",
    "    iou_ = intersection / (box_area + cluster_area - intersection)\n",
    "\n",
    "    return iou_\n",
    "\n",
    "\n",
    "def avg_iou(boxes, clusters):\n",
    "    \"\"\"\n",
    "    Calculates the average Intersection over Union (IoU) between a numpy array of boxes and k clusters.\n",
    "    :param boxes: numpy array of shape (r, 2), where r is the number of rows\n",
    "    :param clusters: numpy array of shape (k, 2) where k is the number of clusters\n",
    "    :return: average IoU as a single float\n",
    "    \"\"\"\n",
    "    return np.mean([np.max(iou(boxes[i], clusters)) for i in range(boxes.shape[0])])\n",
    "\n",
    "\n",
    "def translate_boxes(boxes):\n",
    "    \"\"\"\n",
    "    Translates all the boxes to the origin.\n",
    "    :param boxes: numpy array of shape (r, 4)\n",
    "    :return: numpy array of shape (r, 2)\n",
    "    \"\"\"\n",
    "    new_boxes = boxes.copy()\n",
    "    for row in range(new_boxes.shape[0]):\n",
    "        new_boxes[row][2] = np.abs(new_boxes[row][2] - new_boxes[row][0])\n",
    "        new_boxes[row][3] = np.abs(new_boxes[row][3] - new_boxes[row][1])\n",
    "    return np.delete(new_boxes, [0, 1], axis=1)\n",
    "\n",
    "\n",
    "def kmeans(boxes, k, dist=np.median):\n",
    "    \"\"\"\n",
    "    Calculates k-means clustering with the Intersection over Union (IoU) metric.\n",
    "    :param boxes: numpy array of shape (r, 2), where r is the number of rows\n",
    "    :param k: number of clusters\n",
    "    :param dist: distance function\n",
    "    :return: numpy array of shape (k, 2)\n",
    "    \"\"\"\n",
    "    rows = boxes.shape[0]\n",
    "\n",
    "    distances = np.empty((rows, k))\n",
    "    last_clusters = np.zeros((rows,))\n",
    "\n",
    "    np.random.seed()\n",
    "\n",
    "    # the Forgy method will fail if the whole array contains the same rows\n",
    "    clusters = boxes[np.random.choice(rows, k, replace=False)]\n",
    "\n",
    "    while True:\n",
    "        for row in range(rows):\n",
    "            distances[row] = 1 - iou(boxes[row], clusters)\n",
    "\n",
    "        nearest_clusters = np.argmin(distances, axis=1)\n",
    "\n",
    "        if (last_clusters == nearest_clusters).all():\n",
    "            break\n",
    "\n",
    "        for cluster in range(k):\n",
    "            clusters[cluster] = dist(boxes[nearest_clusters == cluster], axis=0)\n",
    "\n",
    "        last_clusters = nearest_clusters\n",
    "\n",
    "    return clusters"
   ]
  },
  {
   "cell_type": "code",
   "execution_count": 29,
   "metadata": {},
   "outputs": [
    {
     "name": "stdout",
     "output_type": "stream",
     "text": [
      "Index(['b_w', 'b_h'], dtype='object')\n",
      "[[562.8425     501.33333333]\n",
      " [149.38       128.        ]\n",
      " [ 77.3575      64.        ]\n",
      " [268.4171875  248.        ]]\n"
     ]
    }
   ],
   "source": [
    "print(data.columns[12:14])\n",
    "X = data.as_matrix(columns=data.columns[12:14])\n",
    "\n",
    "# Cluster with 4 centers\n",
    "cl = kmeans(X, 4)\n",
    "print(cl)"
   ]
  },
  {
   "cell_type": "code",
   "execution_count": 31,
   "metadata": {},
   "outputs": [
    {
     "name": "stdout",
     "output_type": "stream",
     "text": [
      "[1.12269116 1.16703125 1.20871094 1.08232737]\n",
      "[2.07499363 0.5401461  0.27485348 1.00783871]\n"
     ]
    }
   ],
   "source": [
    "ar_iou = cl[:,0]/cl[:,1]\n",
    "\n",
    "print(ar_iou)\n",
    "\n",
    "\n",
    "scale_iou = cl[:,1]*np.sqrt(ar_iou)/256\n",
    "print(scale_iou)"
   ]
  },
  {
   "cell_type": "code",
   "execution_count": null,
   "metadata": {},
   "outputs": [],
   "source": []
  }
 ],
 "metadata": {
  "kernelspec": {
   "display_name": "Python 3",
   "language": "python",
   "name": "python3"
  },
  "language_info": {
   "codemirror_mode": {
    "name": "ipython",
    "version": 3
   },
   "file_extension": ".py",
   "mimetype": "text/x-python",
   "name": "python",
   "nbconvert_exporter": "python",
   "pygments_lexer": "ipython3",
   "version": "3.7.4"
  }
 },
 "nbformat": 4,
 "nbformat_minor": 2
}
